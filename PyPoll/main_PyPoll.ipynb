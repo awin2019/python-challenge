{
 "cells": [
  {
   "cell_type": "code",
   "execution_count": 1,
   "metadata": {},
   "outputs": [],
   "source": [
    "import os\n",
    "import csv\n",
    "election_data = os.path.join(\"..\", \"Resources\", \"election_data.csv\")"
   ]
  },
  {
   "cell_type": "code",
   "execution_count": 2,
   "metadata": {},
   "outputs": [],
   "source": [
    "#set up my variables for counting all the votes\n",
    "#setting up lists seems to make the most sense b/c there will be multiple candidates to track\n",
    "candidates = []\n",
    "total_votes = 0\n",
    "vote_count = []"
   ]
  },
  {
   "cell_type": "code",
   "execution_count": 3,
   "metadata": {},
   "outputs": [],
   "source": [
    "#open and read file as csv\n",
    "#skip the header\n",
    "with open(election_data,newline=\"\") as csvfile:\n",
    "    csvreader = csv.reader(csvfile)\n",
    "    next(csvfile)\n",
    "\n",
    "#loop through all the rows in the csv (format of data: voter id, county,candidate)\n",
    "#add 1 to total_votes each time; len() could be alternative\n",
    "#look @ list exercise from module lesson 3.1 -- can use .index to retrieve cand. name\n",
    "#reference this: https://treyhunner.com/2016/04/how-to-loop-with-indexes-in-python/\n",
    "    for row in csvreader:\n",
    "        total_votes = total_votes + 1\n",
    "        candidate = row[2]\n",
    "        \n",
    "        if candidate in candidates:\n",
    "            cand_index = candidate.index(candidate)\n",
    "            vote_count[cand_index] = vote_count[cand_index] + 1\n",
    "        else:\n",
    "            candidates.append(candidate)\n",
    "            vote_count.append(1)"
   ]
  },
  {
   "cell_type": "code",
   "execution_count": 33,
   "metadata": {},
   "outputs": [],
   "source": [
    "#set up variables for getting voter %\n",
    "#append percentages to list to keep track of each candidate\n",
    "#round the percentages here or when I print the results...?\n",
    "percentage = []\n",
    "max_votes = vote_count[0]\n",
    "max_index = 0\n",
    "\n",
    "for votes in range(len(candidates)):\n",
    "    vote_percentage = (vote_count[votes]/total_votes) * 100\n",
    "    #vote_percentage = round(vote_percentage, 2)\n",
    "    percentage.append(vote_percentage)\n",
    "    \n",
    "    if vote_count[votes] > max_votes:\n",
    "        max_votes = vote_count[votes]\n",
    "        print(max_votes)\n",
    "        max_index = votes\n",
    "        \n",
    "winner = candidates[max_index]"
   ]
  },
  {
   "cell_type": "code",
   "execution_count": 34,
   "metadata": {
    "scrolled": false
   },
   "outputs": [
    {
     "name": "stdout",
     "output_type": "stream",
     "text": [
      "Election Results\n",
      "--------------------------\n",
      "Total Votes: 3521001\n",
      "Khan: 99.99991479695689% (3520998)\n",
      "Correy: 2.840101437062926e-05% (1)\n",
      "Li: 2.840101437062926e-05% (1)\n",
      "O'Tooley: 2.840101437062926e-05% (1)\n",
      "---------------------------\n",
      "Winner: Khan\n",
      "---------------------------\n"
     ]
    }
   ],
   "source": [
    "#print out all the results\n",
    "#printing total votes will be tricky; \n",
    "# use f statements - don't do + concatenation\n",
    "# use range(len()) again since I need the index\n",
    "print(\"Election Results\")\n",
    "print(\"--------------------------\")\n",
    "print(f\"Total Votes: {total_votes}\")\n",
    "for i in range(len(candidates)):\n",
    "    print(f\"{candidates[i]}: {percentage[i]}% ({vote_count[i]})\")\n",
    "#for x in (candidates):\n",
    "    #print(x)\n",
    "print(\"---------------------------\")\n",
    "print(f\"Winner: {winner}\")\n",
    "print(\"---------------------------\")"
   ]
  },
  {
   "cell_type": "code",
   "execution_count": 42,
   "metadata": {},
   "outputs": [
    {
     "data": {
      "text/plain": [
       "16"
      ]
     },
     "execution_count": 42,
     "metadata": {},
     "output_type": "execute_result"
    }
   ],
   "source": [
    "text_file = open(\"PyPoll_Output.txt\", \"w\")\n",
    "text_file.write(f\"Election Results \\n\")\n",
    "text_file.write(f\"---------------\")\n",
    "text_file.write(\"\\n\")\n",
    "text_file.write(f\"Total Votes: {total_votes}\")\n",
    "text_file.write(\"\\n\")\n",
    "for i in range(len(candidates)):\n",
    "    text_file.write(f\"{candidates[i]}: {percentage[i]}% ({vote_count[i]})\")\n",
    "text_file.write(\"\\n\")\n",
    "text_file.write(\"---------------- \\n\")\n",
    "text_file.write(\"\\n\")\n",
    "text_file.write(f\"Winner: {winner} \\n\")\n",
    "text_file.write(\"----------------\")"
   ]
  },
  {
   "cell_type": "code",
   "execution_count": null,
   "metadata": {},
   "outputs": [],
   "source": []
  }
 ],
 "metadata": {
  "kernelspec": {
   "display_name": "Python 3",
   "language": "python",
   "name": "python3"
  },
  "language_info": {
   "codemirror_mode": {
    "name": "ipython",
    "version": 3
   },
   "file_extension": ".py",
   "mimetype": "text/x-python",
   "name": "python",
   "nbconvert_exporter": "python",
   "pygments_lexer": "ipython3",
   "version": "3.7.3"
  }
 },
 "nbformat": 4,
 "nbformat_minor": 2
}
