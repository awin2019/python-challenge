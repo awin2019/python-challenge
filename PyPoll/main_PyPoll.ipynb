{
 "cells": [
  {
   "cell_type": "code",
   "execution_count": 1,
   "metadata": {},
   "outputs": [],
   "source": [
    "import os\n",
    "import csv\n",
    "election_data = os.path.join(\"..\", \"Resources\", \"election_data.csv\")"
   ]
  },
  {
   "cell_type": "code",
   "execution_count": 2,
   "metadata": {},
   "outputs": [],
   "source": [
    "candidates = []\n",
    "num_votes = 0\n",
    "vote_counts = []"
   ]
  },
  {
   "cell_type": "code",
   "execution_count": 3,
   "metadata": {},
   "outputs": [],
   "source": [
    "with open(election_data,newline=\"\") as csvfile:\n",
    "    csvreader = csv.reader(csvfile)\n",
    "    next(csvfile)\n",
    "    \n",
    "    for row in csvreader:\n",
    "        num_votes = num_votes + 1\n",
    "        candidate = row[2]\n",
    "        \n",
    "        if candidate in candidates:\n",
    "            candidate_index = candidate.index(candidate)\n",
    "            vote_counts[candidate_index] = vote_counts[candidate_index] + 1\n",
    "        else:\n",
    "            candidates.append(candidate)\n",
    "            vote_counts.append(1)"
   ]
  },
  {
   "cell_type": "code",
   "execution_count": 4,
   "metadata": {},
   "outputs": [],
   "source": [
    "percentage = []\n",
    "max_votes = vote_counts[0]\n",
    "max_index = 0\n",
    "\n",
    "for count in range(len(candidates)):\n",
    "    vote_percentage = vote_counts[count]/num_votes*100\n",
    "    percentage.append(vote_percentage)\n",
    "    \n",
    "    if vote_counts[count] > max_votes:\n",
    "        max_votes = vote_counts[count]\n",
    "        print(max_votes)\n",
    "        max_index = count\n",
    "        \n",
    "winner = candidates[max_index]"
   ]
  },
  {
   "cell_type": "code",
   "execution_count": 5,
   "metadata": {},
   "outputs": [
    {
     "name": "stdout",
     "output_type": "stream",
     "text": [
      "Election Results\n",
      "--------------------------\n",
      "Total Votes: 3521001\n",
      "Khan: 99.99991479695689% (3520998)\n",
      "Correy: 2.840101437062926e-05% (1)\n",
      "Li: 2.840101437062926e-05% (1)\n",
      "O'Tooley: 2.840101437062926e-05% (1)\n",
      "---------------------------\n",
      "Winner: Khan\n",
      "---------------------------\n"
     ]
    }
   ],
   "source": [
    "print(\"Election Results\")\n",
    "print(\"--------------------------\")\n",
    "print(f\"Total Votes: {num_votes}\")\n",
    "for count in range(len(candidates)):\n",
    "    print(f\"{candidates[count]}: {percentage[count]}% ({vote_counts[count]})\")\n",
    "print(\"---------------------------\")\n",
    "print(f\"Winner: {winner}\")\n",
    "print(\"---------------------------\")"
   ]
  },
  {
   "cell_type": "code",
   "execution_count": null,
   "metadata": {},
   "outputs": [],
   "source": []
  }
 ],
 "metadata": {
  "kernelspec": {
   "display_name": "Python 3",
   "language": "python",
   "name": "python3"
  },
  "language_info": {
   "codemirror_mode": {
    "name": "ipython",
    "version": 3
   },
   "file_extension": ".py",
   "mimetype": "text/x-python",
   "name": "python",
   "nbconvert_exporter": "python",
   "pygments_lexer": "ipython3",
   "version": "3.7.3"
  }
 },
 "nbformat": 4,
 "nbformat_minor": 2
}
